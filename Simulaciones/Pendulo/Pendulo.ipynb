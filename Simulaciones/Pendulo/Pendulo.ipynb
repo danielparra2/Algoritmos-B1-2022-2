{
 "cells": [
  {
   "cell_type": "markdown",
   "id": "9fa215bd",
   "metadata": {},
   "source": [
    "## Cálculos y simulación para el movimiento de un pendulo "
   ]
  },
  {
   "cell_type": "raw",
   "id": "20067ebc",
   "metadata": {},
   "source": [
    "# Pendulo-Intro-Física \n",
    "*      /\\ ___ /\\        Integrantes:\n",
    "      (  o   o  )                   Daniel Parra Parra 2191072\n",
    "       \\  >#<  /                    Karol Fernanda Guarín Velásquez 2203026\n",
    "       /       \\                    David Ricardo Moreno Díaz 2210697\n",
    "      /         \\        "
   ]
  },
  {
   "cell_type": "markdown",
   "id": "483100de",
   "metadata": {},
   "source": [
    "#### La evidencia de los  obtenidos experimentalmente junto con otros archivos se pueden encontar en :\n",
    "\n",
    "https://github.com/danielparra2/Pendulo-Intro-F-sica-"
   ]
  },
  {
   "cell_type": "code",
   "execution_count": 1,
   "id": "3b512f42",
   "metadata": {},
   "outputs": [],
   "source": [
    "#libreria de matematicas\n",
    "import numpy as np\n",
    "#libreria para graficas # modulo pyplot\n",
    "import matplotlib.pyplot  as plt \n",
    "#Biblioteca de tabla ,sirve para excel\n",
    "import pandas as pd\n",
    "#Resuelve ecuaciones \n",
    "from scipy.integrate import odeint "
   ]
  },
  {
   "cell_type": "markdown",
   "id": "0a9a812e",
   "metadata": {},
   "source": [
    "## Lectura de datos"
   ]
  },
  {
   "cell_type": "markdown",
   "id": "f2a27452",
   "metadata": {},
   "source": [
    "### ★━━━━━━━━━━━━━━━━━━━━━━━━━━━━ 600 ml ━━━━━━━━━━━━━━━━━━━━━━━━━━━━━━━━━━━━★"
   ]
  },
  {
   "cell_type": "markdown",
   "id": "273d898f",
   "metadata": {},
   "source": [
    "1 metro bajos\n"
   ]
  },
  {
   "cell_type": "code",
   "execution_count": 2,
   "id": "884ea6a1",
   "metadata": {},
   "outputs": [],
   "source": [
    "#herramienta pd.read_excel()\n",
    "#(nombre archivo,usecols=(*Rango de columnas*),skiprows=*cuántas filas se salta para llegar al rango de  las columnas*\n",
    "datos1=pd.read_excel(\"Promedios.xlsx\",usecols=(\"B:C\"),skiprows=1)\n",
    "datos_anbajos=np.array(datos1[\"an\"])\n",
    "datos_tbajos=np.array(datos1[\"t\"])\n"
   ]
  },
  {
   "cell_type": "markdown",
   "id": "a6aaa110",
   "metadata": {},
   "source": []
  },
  {
   "cell_type": "markdown",
   "id": "119d2b4d",
   "metadata": {},
   "source": [
    "2 metros bajos"
   ]
  },
  {
   "cell_type": "code",
   "execution_count": 3,
   "id": "32071a43",
   "metadata": {},
   "outputs": [],
   "source": [
    "#(nombre archivo,usecols=(*Rango de columnas*),skiprows=*cuántas filas se salta para llegar al rango de  las columnas*\n",
    "datos2=pd.read_excel(\"Promedios.xlsx\",usecols=(\"E:F\"),skiprows=1)\n",
    "datos_anbajos2=np.array(datos2[\"an.1\"])\n",
    "datos_tbajos2=np.array(datos2[\"t.1\"])"
   ]
  },
  {
   "cell_type": "markdown",
   "id": "99e3048d",
   "metadata": {},
   "source": [
    "30-1metro\n"
   ]
  },
  {
   "cell_type": "code",
   "execution_count": 4,
   "id": "4f8080a6",
   "metadata": {},
   "outputs": [],
   "source": [
    "#(nombre archivo,usecols=(*Rango de columnas*),skiprows=*cuántas filas se salta para llegar al rango de  las columnas*\n",
    "datos3=pd.read_excel(\"Promedios.xlsx\",usecols=(\"H:I\"),skiprows=1)\n",
    "datos_anbajos3=(np.array(datos3[\"an.2\"]))\n",
    "datos_tbajos3=np.array(datos3[\"t.2\"])"
   ]
  },
  {
   "cell_type": "code",
   "execution_count": null,
   "id": "0181bb6a",
   "metadata": {},
   "outputs": [],
   "source": []
  },
  {
   "cell_type": "code",
   "execution_count": null,
   "id": "21eba512",
   "metadata": {},
   "outputs": [],
   "source": []
  },
  {
   "cell_type": "markdown",
   "id": "c0b43214",
   "metadata": {},
   "source": [
    "45-1metro"
   ]
  },
  {
   "cell_type": "code",
   "execution_count": 5,
   "id": "502133f4",
   "metadata": {},
   "outputs": [],
   "source": [
    "#(nombre archivo,usecols=(*Rango de columnas*),skiprows=*cuántas filas se salta para llegar al rango de  las columnas*\n",
    "datos4=pd.read_excel(\"Promedios.xlsx\",usecols=(\"H:L\"),skiprows=1)\n",
    "datos_anbajos4=(np.array(datos4[\"an.3\"]))\n",
    "datos_tbajos4=np.array(datos4[\"t.3\"])"
   ]
  },
  {
   "cell_type": "code",
   "execution_count": null,
   "id": "89060251",
   "metadata": {},
   "outputs": [],
   "source": []
  },
  {
   "cell_type": "markdown",
   "id": "fbde1f79",
   "metadata": {},
   "source": [
    "60-1metro"
   ]
  },
  {
   "cell_type": "code",
   "execution_count": 6,
   "id": "5f170612",
   "metadata": {},
   "outputs": [],
   "source": [
    "#(nombre archivo,usecols=(*Rango de columnas*),skiprows=*cuántas filas se salta para llegar al rango de  las columnas*\n",
    "datos5=pd.read_excel(\"Promedios.xlsx\",usecols=(\"N:O\"),skiprows=1)\n",
    "datos_anbajos5=(np.array(datos5[\"an.4\"]))\n",
    "datos_tbajos5=np.array(datos5[\"t.4\"])"
   ]
  },
  {
   "cell_type": "code",
   "execution_count": null,
   "id": "0e2a48c4",
   "metadata": {},
   "outputs": [],
   "source": []
  },
  {
   "cell_type": "markdown",
   "id": "cc0da601",
   "metadata": {},
   "source": [
    "30-2metros"
   ]
  },
  {
   "cell_type": "code",
   "execution_count": 7,
   "id": "c3e9abfb",
   "metadata": {},
   "outputs": [],
   "source": [
    "#(nombre archivo,usecols=(*Rango de columnas*),skiprows=*cuántas filas se salta para llegar al rango de  las columnas*\n",
    "datos6=pd.read_excel(\"Promedios.xlsx\",usecols=(\"Q:R\"),skiprows=1)\n",
    "datos_anbajos6=(np.array(datos6[\"an.5\"]))\n",
    "datos_tbajos6=np.array(datos6[\"t.5\"])"
   ]
  },
  {
   "cell_type": "code",
   "execution_count": null,
   "id": "f0b60ad7",
   "metadata": {},
   "outputs": [],
   "source": []
  },
  {
   "cell_type": "markdown",
   "id": "4bcf6983",
   "metadata": {},
   "source": [
    "40-2metros"
   ]
  },
  {
   "cell_type": "code",
   "execution_count": 8,
   "id": "8c99cf65",
   "metadata": {},
   "outputs": [],
   "source": [
    "#(nombre archivo,usecols=(*Rango de columnas*),skiprows=*cuántas filas se salta para llegar al rango de  las columnas*\n",
    "datos7=pd.read_excel(\"Promedios.xlsx\",usecols=(\"T:U\"),skiprows=1)\n",
    "datos_anbajos7=(np.array(datos7[\"an.6\"]))\n",
    "datos_tbajos7=np.array(datos7[\"t.6\"])"
   ]
  },
  {
   "cell_type": "code",
   "execution_count": null,
   "id": "1676d74c",
   "metadata": {},
   "outputs": [],
   "source": []
  },
  {
   "cell_type": "markdown",
   "id": "d2f3a1a2",
   "metadata": {},
   "source": [
    "60-2metros"
   ]
  },
  {
   "cell_type": "code",
   "execution_count": 9,
   "id": "6e2537af",
   "metadata": {},
   "outputs": [],
   "source": [
    "#(nombre archivo,usecols=(*Rango de columnas*),skiprows=*cuántas filas se salta para llegar al rango de  las columnas*\n",
    "datos8=pd.read_excel(\"Promedios.xlsx\",usecols=(\"W:X\"),skiprows=1)\n",
    "datos_anbajos8=(np.array(datos8[\"an.7\"]))\n",
    "datos_tbajos8=np.array(datos8[\"t.7\"])"
   ]
  },
  {
   "cell_type": "code",
   "execution_count": null,
   "id": "52fa7848",
   "metadata": {},
   "outputs": [],
   "source": []
  },
  {
   "cell_type": "markdown",
   "id": "8fe4623d",
   "metadata": {},
   "source": [
    "### ★━━━━━━━━━━━━━━━━━━━━━━━━━━━━ 300 ml ━━━━━━━━━━━━━━━━━━━━━━━━━━━━━━━━━━━━★"
   ]
  },
  {
   "cell_type": "markdown",
   "id": "fea9e3ce",
   "metadata": {},
   "source": [
    "3.2 1 metro"
   ]
  },
  {
   "cell_type": "code",
   "execution_count": 10,
   "id": "73ee6c05",
   "metadata": {},
   "outputs": [],
   "source": [
    "data =  pd.read_excel(\"datos pendulo actualizado.xlsx\",sheet_name= \"4grado1m\", usecols=(\"AE:AF\"),skiprows=1 )\n"
   ]
  },
  {
   "cell_type": "code",
   "execution_count": 11,
   "id": "8347b225",
   "metadata": {},
   "outputs": [],
   "source": [
    "datost = np.array(data[\"t.10\"])\n",
    "datostheta = np.array(data[\"θ_{r}.10\"])\n"
   ]
  },
  {
   "cell_type": "markdown",
   "id": "741ddee1",
   "metadata": {},
   "source": [
    "3.2 2 metros"
   ]
  },
  {
   "cell_type": "code",
   "execution_count": 12,
   "id": "253facbb",
   "metadata": {},
   "outputs": [],
   "source": [
    "data2 =  pd.read_excel(\"datos pendulo actualizado.xlsx\",sheet_name= \"4grado2m\", usecols=(\"AE:AF\"),skiprows=1 )\n"
   ]
  },
  {
   "cell_type": "code",
   "execution_count": 13,
   "id": "7b204509",
   "metadata": {},
   "outputs": [],
   "source": [
    "datost2 = np.array(data2[\"t.10\"])\n",
    "datostheta2 = np.array(data2[\"θ_{r}.10\"])"
   ]
  },
  {
   "cell_type": "markdown",
   "id": "e77538d2",
   "metadata": {},
   "source": [
    " 45 grados 1 metro"
   ]
  },
  {
   "cell_type": "code",
   "execution_count": 14,
   "id": "bd9c24dd",
   "metadata": {},
   "outputs": [],
   "source": [
    "data3 =  pd.read_excel(\"datos pendulo actualizado.xlsx\",sheet_name= \"45grado1m\", usecols=(\"AE:AF\"),skiprows=1 )"
   ]
  },
  {
   "cell_type": "code",
   "execution_count": 15,
   "id": "d679bd10",
   "metadata": {},
   "outputs": [],
   "source": [
    "datost3 = np.array(data3[\"t.10\"])\n",
    "datostheta3 = np.array(data3[\"θ_{r}.10\"])"
   ]
  },
  {
   "cell_type": "code",
   "execution_count": null,
   "id": "89bd5c53",
   "metadata": {},
   "outputs": [],
   "source": []
  },
  {
   "cell_type": "markdown",
   "id": "99fd51c1",
   "metadata": {},
   "source": [
    " 45 grado 2m"
   ]
  },
  {
   "cell_type": "code",
   "execution_count": 16,
   "id": "2c2f2fc2",
   "metadata": {},
   "outputs": [],
   "source": [
    "data4 =  pd.read_excel(\"datos pendulo actualizado.xlsx\",sheet_name= \"45grado2m\", usecols=(\"AE:AF\"),skiprows=1 )"
   ]
  },
  {
   "cell_type": "code",
   "execution_count": 17,
   "id": "756bbc37",
   "metadata": {},
   "outputs": [],
   "source": [
    "datost4 = np.array(data4[\"t.10\"])\n",
    "datostheta4 = np.array(data4[\"θ_{r}.10\"])"
   ]
  },
  {
   "cell_type": "code",
   "execution_count": null,
   "id": "7ee0f6cc",
   "metadata": {},
   "outputs": [],
   "source": []
  },
  {
   "cell_type": "markdown",
   "id": "e4101797",
   "metadata": {},
   "source": [
    "30 grados 1 metro"
   ]
  },
  {
   "cell_type": "code",
   "execution_count": 18,
   "id": "d349d75f",
   "metadata": {},
   "outputs": [],
   "source": [
    "data5 =  pd.read_excel(\"datos pendulo actualizado.xlsx\",sheet_name= \"30grado1m\", usecols=(\"AE:AF\"),skiprows=1 )"
   ]
  },
  {
   "cell_type": "code",
   "execution_count": 19,
   "id": "0139282b",
   "metadata": {},
   "outputs": [],
   "source": [
    "datost5 = np.array(data5[\"t.10\"])\n",
    "datostheta5 = np.array(data5[\"θ_{r}.10\"])"
   ]
  },
  {
   "cell_type": "code",
   "execution_count": null,
   "id": "ae7c79e8",
   "metadata": {},
   "outputs": [],
   "source": []
  },
  {
   "cell_type": "markdown",
   "id": "eeffe879",
   "metadata": {},
   "source": [
    "30 grados 2 metros"
   ]
  },
  {
   "cell_type": "code",
   "execution_count": 20,
   "id": "9aa281a8",
   "metadata": {},
   "outputs": [],
   "source": [
    "data6 =  pd.read_excel(\"datos pendulo actualizado.xlsx\",sheet_name= \"30grado2m\", usecols=(\"AE:AF\"),skiprows=1 )"
   ]
  },
  {
   "cell_type": "code",
   "execution_count": 21,
   "id": "c5343c73",
   "metadata": {},
   "outputs": [],
   "source": [
    "datost6 = np.array(data6[\"t.10\"])\n",
    "datostheta6 = np.array(data6[\"θ_{r}.10\"])"
   ]
  },
  {
   "cell_type": "code",
   "execution_count": null,
   "id": "e6d4c6a8",
   "metadata": {},
   "outputs": [],
   "source": []
  },
  {
   "cell_type": "markdown",
   "id": "5ae0893c",
   "metadata": {},
   "source": [
    " 60 grados 1 metro"
   ]
  },
  {
   "cell_type": "code",
   "execution_count": 22,
   "id": "b5ec7c1f",
   "metadata": {},
   "outputs": [],
   "source": [
    "data7 =  pd.read_excel(\"datos pendulo actualizado.xlsx\",sheet_name= \"60grado1m\", usecols=(\"AE:AF\"),skiprows=1 )"
   ]
  },
  {
   "cell_type": "code",
   "execution_count": 23,
   "id": "898d4aaa",
   "metadata": {},
   "outputs": [],
   "source": [
    "datost7 = np.array(data7[\"t.10\"])\n",
    "datostheta7 = np.array(data7[\"θ_{r}.10\"])"
   ]
  },
  {
   "cell_type": "code",
   "execution_count": null,
   "id": "50c73ac0",
   "metadata": {},
   "outputs": [],
   "source": []
  },
  {
   "cell_type": "markdown",
   "id": "cddacf4f",
   "metadata": {},
   "source": [
    "60 grados 2 metros"
   ]
  },
  {
   "cell_type": "code",
   "execution_count": 24,
   "id": "80f5923b",
   "metadata": {},
   "outputs": [],
   "source": [
    "data8 =  pd.read_excel(\"datos pendulo actualizado.xlsx\",sheet_name= \"60grado2m\", usecols=(\"AE:AF\"),skiprows=1 )"
   ]
  },
  {
   "cell_type": "code",
   "execution_count": 25,
   "id": "183669f2",
   "metadata": {},
   "outputs": [],
   "source": [
    "datost8 = np.array(data8[\"t.10\"])\n",
    "datostheta8 = np.array(data8[\"θ_{r}.10\"])"
   ]
  },
  {
   "cell_type": "markdown",
   "id": "3f1b7b9d",
   "metadata": {},
   "source": [
    "## Graficas"
   ]
  },
  {
   "cell_type": "code",
   "execution_count": 26,
   "id": "ba3b1d0e",
   "metadata": {},
   "outputs": [],
   "source": [
    "#4 grados un metro"
   ]
  },
  {
   "cell_type": "code",
   "execution_count": 27,
   "id": "c63235e3",
   "metadata": {},
   "outputs": [
    {
     "data": {
      "text/plain": [
       "<matplotlib.legend.Legend at 0xb04d400>"
      ]
     },
     "execution_count": 27,
     "metadata": {},
     "output_type": "execute_result"
    },
    {
     "data": {
      "image/png": "[encoded data removed]",
      "text/plain": [
       "<Figure size 432x288 with 1 Axes>"
      ]
     },
     "metadata": {
      "needs_background": "light"
     },
     "output_type": "display_data"
    }
   ],
   "source": [
    "plt.figure()\n",
    "plt.plot(datos_tbajos,datos_anbajos*np.pi/180, \"k\", label=\"600ml\")\n",
    "plt.plot(datost,datostheta*np.pi/180,\"c\",label=\"300ml\")\n",
    "plt.xlabel(\"Tiempo (s)\")\n",
    "plt.ylabel(\"θ (radianes)\")\n",
    "plt.title(\"\")\n",
    "    \n",
    "plt.legend()"
   ]
  },
  {
   "cell_type": "code",
   "execution_count": 28,
   "id": "2d906a1f",
   "metadata": {},
   "outputs": [
    {
     "data": {
      "text/plain": [
       "<matplotlib.legend.Legend at 0xb372ca0>"
      ]
     },
     "execution_count": 28,
     "metadata": {},
     "output_type": "execute_result"
    },
    {
     "data": {
      "image/png": "[encoded data removed]",
      "text/plain": [
       "<Figure size 432x288 with 1 Axes>"
      ]
     },
     "metadata": {
      "needs_background": "light"
     },
     "output_type": "display_data"
    }
   ],
   "source": [
    "#4 grados 2 metros\n",
    "plt.figure()\n",
    "plt.plot(datos_tbajos2,datos_anbajos2*np.pi/180, \"k\", label=\"600ml\")\n",
    "plt.plot(datost2,datostheta2*np.pi/180,\"c\",label=\"300ml\")\n",
    "plt.xlabel(\"Tiempo (s)\")\n",
    "plt.ylabel(\"θ (radianes)\")\n",
    "plt.title(\"\")\n",
    "    \n",
    "plt.legend()\n"
   ]
  },
  {
   "cell_type": "code",
   "execution_count": 29,
   "id": "456bdfa5",
   "metadata": {},
   "outputs": [
    {
     "data": {
      "text/plain": [
       "<matplotlib.legend.Legend at 0xb4742e0>"
      ]
     },
     "execution_count": 29,
     "metadata": {},
     "output_type": "execute_result"
    },
    {
     "data": {
      "image/png": "[encoded data removed]",
      "text/plain": [
       "<Figure size 432x288 with 1 Axes>"
      ]
     },
     "metadata": {
      "needs_background": "light"
     },
     "output_type": "display_data"
    }
   ],
   "source": [
    "#30 grados un metro\n",
    "plt.figure()\n",
    "plt.plot(datos_tbajos3,datos_anbajos3*np.pi/180, \"k\", label=\"600ml\")\n",
    "plt.plot(datost5,datostheta5*np.pi/180,\"c\",label=\"300ml\")\n",
    "plt.xlabel(\"Tiempo (s)\")\n",
    "plt.ylabel(\"θ (radianes)\")\n",
    "plt.title(\"\")\n",
    "    \n",
    "plt.legend()"
   ]
  },
  {
   "cell_type": "code",
   "execution_count": 30,
   "id": "2a75cec4",
   "metadata": {},
   "outputs": [
    {
     "data": {
      "text/plain": [
       "<matplotlib.legend.Legend at 0xb374d60>"
      ]
     },
     "execution_count": 30,
     "metadata": {},
     "output_type": "execute_result"
    },
    {
     "data": {
      "image/png": "[encoded data removed]",
      "text/plain": [
       "<Figure size 432x288 with 1 Axes>"
      ]
     },
     "metadata": {
      "needs_background": "light"
     },
     "output_type": "display_data"
    }
   ],
   "source": [
    "#45 grados un metro\n",
    "plt.figure()\n",
    "plt.plot(datos_tbajos4,datos_anbajos4*np.pi/180, \"k\", label=\"600ml\")\n",
    "plt.plot(datost3,datostheta3*np.pi/180,\"c\",label=\"300ml\")\n",
    "plt.xlabel(\"Tiempo (s)\")\n",
    "plt.ylabel(\"θ (radianes)\")\n",
    "plt.title(\"\")\n",
    "    \n",
    "plt.legend()"
   ]
  },
  {
   "cell_type": "code",
   "execution_count": 31,
   "id": "6fa56c7d",
   "metadata": {},
   "outputs": [
    {
     "data": {
      "text/plain": [
       "<matplotlib.legend.Legend at 0xb29ff70>"
      ]
     },
     "execution_count": 31,
     "metadata": {},
     "output_type": "execute_result"
    },
    {
     "data": {
      "image/png": "[encoded data removed]",
      "text/plain": [
       "<Figure size 432x288 with 1 Axes>"
      ]
     },
     "metadata": {
      "needs_background": "light"
     },
     "output_type": "display_data"
    }
   ],
   "source": [
    "#60 grados un metro\n",
    "plt.figure()\n",
    "plt.plot(datos_tbajos5,datos_anbajos5*np.pi/180, \"k\", label=\"600ml\")\n",
    "plt.plot(datost7,datostheta7*np.pi/180,\"c\",label=\"300ml\")\n",
    "plt.xlabel(\"Tiempo (s)\")\n",
    "plt.ylabel(\"θ (radianes)\")\n",
    "plt.title(\"\")\n",
    "    \n",
    "plt.legend()"
   ]
  },
  {
   "cell_type": "code",
   "execution_count": 32,
   "id": "6f41417f",
   "metadata": {},
   "outputs": [
    {
     "data": {
      "text/plain": [
       "<matplotlib.legend.Legend at 0x9f7d5e0>"
      ]
     },
     "execution_count": 32,
     "metadata": {},
     "output_type": "execute_result"
    },
    {
     "data": {
      "image/png": "[encoded data removed]",
      "text/plain": [
       "<Figure size 432x288 with 1 Axes>"
      ]
     },
     "metadata": {
      "needs_background": "light"
     },
     "output_type": "display_data"
    }
   ],
   "source": [
    "#30 grados 2 metros\n",
    "plt.figure()\n",
    "plt.plot(datos_tbajos6,datos_anbajos6*np.pi/180, \"k\", label=\"600ml\")\n",
    "plt.plot(datost6,datostheta6*np.pi/180,\"c\",label=\"300ml\")\n",
    "plt.xlabel(\"Tiempo (s)\")\n",
    "plt.ylabel(\"θ (radianes)\")\n",
    "plt.title(\"\")\n",
    "    \n",
    "plt.legend()"
   ]
  },
  {
   "cell_type": "code",
   "execution_count": 33,
   "id": "51c73c2e",
   "metadata": {},
   "outputs": [
    {
     "data": {
      "text/plain": [
       "<matplotlib.legend.Legend at 0xb4d3130>"
      ]
     },
     "execution_count": 33,
     "metadata": {},
     "output_type": "execute_result"
    },
    {
     "data": {
      "image/png": "[encoded data removed]",
      "text/plain": [
       "<Figure size 432x288 with 1 Axes>"
      ]
     },
     "metadata": {
      "needs_background": "light"
     },
     "output_type": "display_data"
    }
   ],
   "source": [
    "#45 grados 2 metros\n",
    "plt.figure()\n",
    "plt.plot(datos_tbajos7,datos_anbajos7*np.pi/180, \"k\", label=\"600ml\")\n",
    "plt.plot(datost4,datostheta4*np.pi/180,\"c\",label=\"300ml\")\n",
    "plt.xlabel(\"Tiempo (s)\")\n",
    "plt.ylabel(\"θ (radianes)\")\n",
    "plt.title(\"\")\n",
    "    \n",
    "plt.legend()"
   ]
  },
  {
   "cell_type": "code",
   "execution_count": 34,
   "id": "576eac8c",
   "metadata": {},
   "outputs": [
    {
     "data": {
      "text/plain": [
       "<matplotlib.legend.Legend at 0xb3157f0>"
      ]
     },
     "execution_count": 34,
     "metadata": {},
     "output_type": "execute_result"
    },
    {
     "data": {
      "image/png": "[encoded data removed]",
      "text/plain": [
       "<Figure size 432x288 with 1 Axes>"
      ]
     },
     "metadata": {
      "needs_background": "light"
     },
     "output_type": "display_data"
    }
   ],
   "source": [
    "#60 grados 2 metros\n",
    "plt.figure()\n",
    "plt.plot(datos_tbajos8,datos_anbajos8*np.pi/180, \"k\", label=\"600ml\")\n",
    "plt.plot(datost8,datostheta8*np.pi/180,\"c\",label=\"300ml\")\n",
    "plt.xlabel(\"Tiempo (s)\")\n",
    "plt.ylabel(\"θ (radianes)\")\n",
    "plt.title(\"\")\n",
    "    \n",
    "plt.legend()"
   ]
  },
  {
   "cell_type": "markdown",
   "id": "e05e4caf",
   "metadata": {},
   "source": []
  },
  {
   "cell_type": "markdown",
   "id": "af0afd29",
   "metadata": {},
   "source": []
  },
  {
   "cell_type": "markdown",
   "id": "0642c15b",
   "metadata": {},
   "source": []
  },
  {
   "cell_type": "markdown",
   "id": "f8fca69c",
   "metadata": {},
   "source": [
    "## Función periodo experimental\n"
   ]
  },
  {
   "cell_type": "code",
   "execution_count": 35,
   "id": "99828f38",
   "metadata": {},
   "outputs": [],
   "source": [
    "def periodoexpe(x):\n",
    "    y=max(x)\n",
    "    return y"
   ]
  },
  {
   "cell_type": "code",
   "execution_count": 36,
   "id": "53ec6b6c",
   "metadata": {},
   "outputs": [],
   "source": [
    "def gravedad(l,T):\n",
    "    g = 4*(np.pi**2)*l/T**2\n",
    "    return g"
   ]
  },
  {
   "cell_type": "markdown",
   "id": "ddf9b225",
   "metadata": {},
   "source": [
    "## Periodo teorico\n"
   ]
  },
  {
   "cell_type": "markdown",
   "id": "5bc6ff64",
   "metadata": {},
   "source": [
    "para pequeñas oscilaciones "
   ]
  },
  {
   "cell_type": "code",
   "execution_count": 37,
   "id": "aaeafe33",
   "metadata": {},
   "outputs": [],
   "source": [
    "def Periodo(l,g):\n",
    "    T=2*np.pi*np.sqrt(l/g)\n",
    "    return T"
   ]
  },
  {
   "cell_type": "markdown",
   "id": "ebc51fc7",
   "metadata": {},
   "source": [
    "Para grandes oscilaciones"
   ]
  },
  {
   "cell_type": "code",
   "execution_count": 38,
   "id": "539f67cc",
   "metadata": {},
   "outputs": [],
   "source": [
    "def Periodogeneral(l,g,an):\n",
    "    Tgene=(2*np.pi*np.sqrt(l/g))*(1+(1*an**2/16)+(11*an**4/3072)+(173*an**6/737280)+(22931*an**8/1321205760))\n",
    "    return Tgene"
   ]
  },
  {
   "cell_type": "code",
   "execution_count": 39,
   "id": "dd624868",
   "metadata": {},
   "outputs": [],
   "source": [
    "def serie(an):\n",
    "    s=(1+(1*an**2/16)+(11*an**4/3072)+(173*an**6/737280)+(22931*an**8/1321205760))\n",
    "    return s"
   ]
  },
  {
   "cell_type": "markdown",
   "id": "8f1db364",
   "metadata": {},
   "source": [
    "## Cálculos"
   ]
  },
  {
   "cell_type": "markdown",
   "id": "96985e9f",
   "metadata": {},
   "source": [
    "### Hallando g"
   ]
  },
  {
   "cell_type": "markdown",
   "id": "062ba8b8",
   "metadata": {},
   "source": [
    "### ★━━━━━━━━━━━━━━━━━━━━━━━━━━━━ 600 ml ━━━━━━━━━━━━━━━━━━━━━━━━━━━━━━━━━━━━★"
   ]
  },
  {
   "cell_type": "markdown",
   "id": "fcc98d5a",
   "metadata": {},
   "source": [
    "Bajas 1 metro 600 ml"
   ]
  },
  {
   "cell_type": "code",
   "execution_count": 40,
   "id": "021c96e7",
   "metadata": {
    "scrolled": true
   },
   "outputs": [
    {
     "data": {
      "text/plain": [
       "2.0000000000000013"
      ]
     },
     "execution_count": 40,
     "metadata": {},
     "output_type": "execute_result"
    }
   ],
   "source": [
    "#periodo experimentalmente\n",
    "periodoexpe(datos_tbajos)"
   ]
  },
  {
   "cell_type": "code",
   "execution_count": 41,
   "id": "083e2613",
   "metadata": {},
   "outputs": [
    {
     "data": {
      "text/plain": [
       "9.869604401089346"
      ]
     },
     "execution_count": 41,
     "metadata": {},
     "output_type": "execute_result"
    }
   ],
   "source": [
    "#gravedad experimentalmente\n",
    "gravedad(1,periodoexpe(datos_tbajos))"
   ]
  },
  {
   "cell_type": "code",
   "execution_count": 42,
   "id": "79d914d4",
   "metadata": {},
   "outputs": [
    {
     "data": {
      "text/plain": [
       "2.007089923154493"
      ]
     },
     "execution_count": 42,
     "metadata": {},
     "output_type": "execute_result"
    }
   ],
   "source": [
    "#teorico\n",
    "Periodo(1,9.8)"
   ]
  },
  {
   "cell_type": "code",
   "execution_count": 43,
   "id": "6e0a1b6f",
   "metadata": {},
   "outputs": [
    {
     "data": {
      "text/plain": [
       "2.0074812856105893"
      ]
     },
     "execution_count": 43,
     "metadata": {},
     "output_type": "execute_result"
    }
   ],
   "source": [
    "#teorico serie\n",
    "Periodogeneral(1,9.8,3.2*np.pi/180)"
   ]
  },
  {
   "cell_type": "markdown",
   "id": "34ca3f4a",
   "metadata": {},
   "source": [
    "Bajas 2 metros 600 ml"
   ]
  },
  {
   "cell_type": "code",
   "execution_count": 44,
   "id": "5f2488b5",
   "metadata": {
    "scrolled": true
   },
   "outputs": [
    {
     "data": {
      "text/plain": [
       "2.852"
      ]
     },
     "execution_count": 44,
     "metadata": {},
     "output_type": "execute_result"
    }
   ],
   "source": [
    "#periodo experimentalmente\n",
    "periodoexpe(datos_tbajos2)"
   ]
  },
  {
   "cell_type": "code",
   "execution_count": 45,
   "id": "5dfbef66",
   "metadata": {},
   "outputs": [
    {
     "data": {
      "text/plain": [
       "9.707126517440441"
      ]
     },
     "execution_count": 45,
     "metadata": {},
     "output_type": "execute_result"
    }
   ],
   "source": [
    "#gravedad experimentalmente\n",
    "gravedad(2,periodoexpe(datos_tbajos2))"
   ]
  },
  {
   "cell_type": "code",
   "execution_count": 46,
   "id": "071e7ee1",
   "metadata": {},
   "outputs": [
    {
     "data": {
      "text/plain": [
       "2.838453790227457"
      ]
     },
     "execution_count": 46,
     "metadata": {},
     "output_type": "execute_result"
    }
   ],
   "source": [
    "#teorico\n",
    "Periodo(2,9.8)"
   ]
  },
  {
   "cell_type": "code",
   "execution_count": 47,
   "id": "49460758",
   "metadata": {
    "scrolled": true
   },
   "outputs": [
    {
     "data": {
      "text/plain": [
       "2.839007260320672"
      ]
     },
     "execution_count": 47,
     "metadata": {},
     "output_type": "execute_result"
    }
   ],
   "source": [
    "#teorico serie\n",
    "Periodogeneral(2,9.8,3.2*np.pi/180)"
   ]
  },
  {
   "cell_type": "markdown",
   "id": "4b556cc5",
   "metadata": {},
   "source": []
  },
  {
   "cell_type": "markdown",
   "id": "f046e6ec",
   "metadata": {},
   "source": [
    "### ★━━━━━━━━━━━━━━━━━━━━━━━━━━━━ 300 ml ━━━━━━━━━━━━━━━━━━━━━━━━━━━━━━━━━━━━★"
   ]
  },
  {
   "cell_type": "markdown",
   "id": "99416c32",
   "metadata": {},
   "source": [
    "3.2-1metro"
   ]
  },
  {
   "cell_type": "code",
   "execution_count": 48,
   "id": "03df0970",
   "metadata": {
    "scrolled": true
   },
   "outputs": [
    {
     "data": {
      "text/plain": [
       "2.006"
      ]
     },
     "execution_count": 48,
     "metadata": {},
     "output_type": "execute_result"
    }
   ],
   "source": [
    "#periodo experimentalmente\n",
    "periodoexpe(datost)"
   ]
  },
  {
   "cell_type": "code",
   "execution_count": 49,
   "id": "c898134d",
   "metadata": {},
   "outputs": [
    {
     "data": {
      "text/plain": [
       "9.810652192067229"
      ]
     },
     "execution_count": 49,
     "metadata": {},
     "output_type": "execute_result"
    }
   ],
   "source": [
    "#gravedad experimentalmente\n",
    "gravedad(1,periodoexpe(datost))"
   ]
  },
  {
   "cell_type": "code",
   "execution_count": 50,
   "id": "f01d2437",
   "metadata": {},
   "outputs": [
    {
     "data": {
      "text/plain": [
       "2.007089923154493"
      ]
     },
     "execution_count": 50,
     "metadata": {},
     "output_type": "execute_result"
    }
   ],
   "source": [
    "#teorico\n",
    "Periodo(1,9.8)"
   ]
  },
  {
   "cell_type": "code",
   "execution_count": 51,
   "id": "383acfa1",
   "metadata": {},
   "outputs": [
    {
     "data": {
      "text/plain": [
       "2.0074812856105893"
      ]
     },
     "execution_count": 51,
     "metadata": {},
     "output_type": "execute_result"
    }
   ],
   "source": [
    "#teorico serie\n",
    "Periodogeneral(1,9.8,3.2*np.pi/180)"
   ]
  },
  {
   "cell_type": "markdown",
   "id": "b2e5308d",
   "metadata": {},
   "source": []
  },
  {
   "cell_type": "markdown",
   "id": "27e90b6e",
   "metadata": {},
   "source": [
    "3.2-2metros"
   ]
  },
  {
   "cell_type": "code",
   "execution_count": 52,
   "id": "4f7a5674",
   "metadata": {
    "scrolled": true
   },
   "outputs": [
    {
     "data": {
      "text/plain": [
       "2.8359999999999994"
      ]
     },
     "execution_count": 52,
     "metadata": {},
     "output_type": "execute_result"
    }
   ],
   "source": [
    "#periodo experimentalmente\n",
    "periodoexpe(datost2)"
   ]
  },
  {
   "cell_type": "code",
   "execution_count": 53,
   "id": "26e9ab1b",
   "metadata": {},
   "outputs": [
    {
     "data": {
      "text/plain": [
       "9.816965830307254"
      ]
     },
     "execution_count": 53,
     "metadata": {},
     "output_type": "execute_result"
    }
   ],
   "source": [
    "#gravedad experimentalmente\n",
    "gravedad(2,periodoexpe(datost2))"
   ]
  },
  {
   "cell_type": "code",
   "execution_count": 54,
   "id": "4b387736",
   "metadata": {},
   "outputs": [
    {
     "data": {
      "text/plain": [
       "2.838453790227457"
      ]
     },
     "execution_count": 54,
     "metadata": {},
     "output_type": "execute_result"
    }
   ],
   "source": [
    "#teorico\n",
    "Periodo(2,9.8)"
   ]
  },
  {
   "cell_type": "code",
   "execution_count": 55,
   "id": "73ec3444",
   "metadata": {},
   "outputs": [
    {
     "data": {
      "text/plain": [
       "2.839007260320672"
      ]
     },
     "execution_count": 55,
     "metadata": {},
     "output_type": "execute_result"
    }
   ],
   "source": [
    "#teorico serie\n",
    "Periodogeneral(2,9.8,3.2*np.pi/180)"
   ]
  },
  {
   "cell_type": "markdown",
   "id": "f82b4916",
   "metadata": {},
   "source": [
    "## Gravedad"
   ]
  },
  {
   "cell_type": "code",
   "execution_count": 56,
   "id": "f19ea8ce",
   "metadata": {},
   "outputs": [
    {
     "data": {
      "text/plain": [
       "9.801087235226067"
      ]
     },
     "execution_count": 56,
     "metadata": {},
     "output_type": "execute_result"
    }
   ],
   "source": [
    "\n",
    "g=(gravedad(1,periodoexpe(datos_tbajos))+gravedad(2,periodoexpe(datos_tbajos2))+gravedad(1,periodoexpe(datost))+gravedad(2,periodoexpe(datost2)))/4\n",
    "g"
   ]
  },
  {
   "cell_type": "markdown",
   "id": "a32fd408",
   "metadata": {},
   "source": [
    "1-30"
   ]
  },
  {
   "cell_type": "code",
   "execution_count": 57,
   "id": "6da383eb",
   "metadata": {
    "scrolled": true
   },
   "outputs": [
    {
     "data": {
      "text/plain": [
       "2.0160000000000013"
      ]
     },
     "execution_count": 57,
     "metadata": {},
     "output_type": "execute_result"
    }
   ],
   "source": [
    "#periodo experimentalmente\n",
    "periodoexpe(datos_tbajos3)"
   ]
  },
  {
   "cell_type": "code",
   "execution_count": 58,
   "id": "844d1a25",
   "metadata": {},
   "outputs": [
    {
     "data": {
      "text/plain": [
       "9.713565681974112"
      ]
     },
     "execution_count": 58,
     "metadata": {},
     "output_type": "execute_result"
    }
   ],
   "source": [
    "#gravedad experimentalmente\n",
    "gravedad(1,periodoexpe(datos_tbajos3))"
   ]
  },
  {
   "cell_type": "code",
   "execution_count": 59,
   "id": "2e4264b1",
   "metadata": {},
   "outputs": [
    {
     "data": {
      "text/plain": [
       "2.007089923154493"
      ]
     },
     "execution_count": 59,
     "metadata": {},
     "output_type": "execute_result"
    }
   ],
   "source": [
    "#teorico\n",
    "Periodo(1,9.8)"
   ]
  },
  {
   "cell_type": "code",
   "execution_count": 60,
   "id": "154be246",
   "metadata": {
    "scrolled": true
   },
   "outputs": [
    {
     "data": {
      "text/plain": [
       "2.042030940971334"
      ]
     },
     "execution_count": 60,
     "metadata": {},
     "output_type": "execute_result"
    }
   ],
   "source": [
    "#teorico serie\n",
    "Periodogeneral(1,9.8,30*np.pi/180)"
   ]
  },
  {
   "cell_type": "markdown",
   "id": "58090341",
   "metadata": {},
   "source": [
    "## Cálculo del periodo para demás amplitudes"
   ]
  },
  {
   "cell_type": "markdown",
   "id": "1930f88d",
   "metadata": {},
   "source": [
    "### ★━━━━━━━━━━━━━━━━━━━━━━━━━━━━ 600 ml ━━━━━━━━━━━━━━━━━━━━━━━━━━━━━━━━━━━━★"
   ]
  },
  {
   "cell_type": "markdown",
   "id": "63f0060c",
   "metadata": {},
   "source": [
    "1-45"
   ]
  },
  {
   "cell_type": "code",
   "execution_count": 61,
   "id": "e187a5cd",
   "metadata": {
    "scrolled": true
   },
   "outputs": [
    {
     "data": {
      "text/plain": [
       "2.1440000000000015"
      ]
     },
     "execution_count": 61,
     "metadata": {},
     "output_type": "execute_result"
    }
   ],
   "source": [
    "#periodo experimentalmente\n",
    "periodoexpe(datos_tbajos4)"
   ]
  },
  {
   "cell_type": "code",
   "execution_count": 62,
   "id": "e802def6",
   "metadata": {},
   "outputs": [
    {
     "data": {
      "text/plain": [
       "8.588358697205447"
      ]
     },
     "execution_count": 62,
     "metadata": {},
     "output_type": "execute_result"
    }
   ],
   "source": [
    "#gravedad experimentalmente\n",
    "gravedad(1,periodoexpe(datos_tbajos4))"
   ]
  },
  {
   "cell_type": "code",
   "execution_count": 63,
   "id": "25fb6384",
   "metadata": {},
   "outputs": [
    {
     "data": {
      "text/plain": [
       "2.007089923154493"
      ]
     },
     "execution_count": 63,
     "metadata": {},
     "output_type": "execute_result"
    }
   ],
   "source": [
    "#teorico\n",
    "Periodo(1,9.8)"
   ]
  },
  {
   "cell_type": "code",
   "execution_count": 64,
   "id": "29013dc4",
   "metadata": {
    "scrolled": true
   },
   "outputs": [
    {
     "data": {
      "text/plain": [
       "2.0873197553208764"
      ]
     },
     "execution_count": 64,
     "metadata": {},
     "output_type": "execute_result"
    }
   ],
   "source": [
    "#teorico serie\n",
    "Periodogeneral(1,9.8,45*np.pi/180)"
   ]
  },
  {
   "cell_type": "markdown",
   "id": "50d360dd",
   "metadata": {},
   "source": [
    "1-60"
   ]
  },
  {
   "cell_type": "code",
   "execution_count": 65,
   "id": "7dbc1e46",
   "metadata": {
    "scrolled": true
   },
   "outputs": [
    {
     "data": {
      "text/plain": [
       "2.1280000000000014"
      ]
     },
     "execution_count": 65,
     "metadata": {},
     "output_type": "execute_result"
    }
   ],
   "source": [
    "#periodo experimentalmente\n",
    "periodoexpe(datos_tbajos5)"
   ]
  },
  {
   "cell_type": "code",
   "execution_count": 66,
   "id": "b56a2627",
   "metadata": {},
   "outputs": [
    {
     "data": {
      "text/plain": [
       "8.717992468032167"
      ]
     },
     "execution_count": 66,
     "metadata": {},
     "output_type": "execute_result"
    }
   ],
   "source": [
    "#gravedad experimentalmente\n",
    "gravedad(1,periodoexpe(datos_tbajos5))"
   ]
  },
  {
   "cell_type": "code",
   "execution_count": 67,
   "id": "44b636e4",
   "metadata": {},
   "outputs": [
    {
     "data": {
      "text/plain": [
       "2.007089923154493"
      ]
     },
     "execution_count": 67,
     "metadata": {},
     "output_type": "execute_result"
    }
   ],
   "source": [
    "#teorico\n",
    "Periodo(1,9.8)"
   ]
  },
  {
   "cell_type": "code",
   "execution_count": 68,
   "id": "2a294e08",
   "metadata": {
    "scrolled": true
   },
   "outputs": [
    {
     "data": {
      "text/plain": [
       "2.1539679296554577"
      ]
     },
     "execution_count": 68,
     "metadata": {},
     "output_type": "execute_result"
    }
   ],
   "source": [
    "#teorico serie\n",
    "Periodogeneral(1,9.8,60*np.pi/180)"
   ]
  },
  {
   "cell_type": "markdown",
   "id": "82ca2b9e",
   "metadata": {},
   "source": [
    "2-30"
   ]
  },
  {
   "cell_type": "code",
   "execution_count": 69,
   "id": "98669735",
   "metadata": {
    "scrolled": true
   },
   "outputs": [
    {
     "data": {
      "text/plain": [
       "2.992000000000002"
      ]
     },
     "execution_count": 69,
     "metadata": {},
     "output_type": "execute_result"
    }
   ],
   "source": [
    "#periodo experimentalmente\n",
    "periodoexpe(datos_tbajos6)"
   ]
  },
  {
   "cell_type": "code",
   "execution_count": 70,
   "id": "01acc7e5",
   "metadata": {},
   "outputs": [
    {
     "data": {
      "text/plain": [
       "8.819958750151335"
      ]
     },
     "execution_count": 70,
     "metadata": {},
     "output_type": "execute_result"
    }
   ],
   "source": [
    "#gravedad experimentalmente\n",
    "gravedad(2,periodoexpe(datos_tbajos6))"
   ]
  },
  {
   "cell_type": "code",
   "execution_count": 71,
   "id": "103d62b7",
   "metadata": {},
   "outputs": [
    {
     "data": {
      "text/plain": [
       "2.838453790227457"
      ]
     },
     "execution_count": 71,
     "metadata": {},
     "output_type": "execute_result"
    }
   ],
   "source": [
    "#teorico\n",
    "Periodo(2,9.8)"
   ]
  },
  {
   "cell_type": "code",
   "execution_count": 72,
   "id": "781ff7b7",
   "metadata": {
    "scrolled": true
   },
   "outputs": [
    {
     "data": {
      "text/plain": [
       "2.887867851507154"
      ]
     },
     "execution_count": 72,
     "metadata": {},
     "output_type": "execute_result"
    }
   ],
   "source": [
    "#teorico serie\n",
    "Periodogeneral(2,9.8,30*np.pi/180)"
   ]
  },
  {
   "cell_type": "markdown",
   "id": "6c348570",
   "metadata": {},
   "source": [
    "2-45"
   ]
  },
  {
   "cell_type": "code",
   "execution_count": 73,
   "id": "b5b3b608",
   "metadata": {
    "scrolled": true
   },
   "outputs": [
    {
     "data": {
      "text/plain": [
       "2.944000000000002"
      ]
     },
     "execution_count": 73,
     "metadata": {},
     "output_type": "execute_result"
    }
   ],
   "source": [
    "#periodo experimentalmente\n",
    "periodoexpe(datos_tbajos7)"
   ]
  },
  {
   "cell_type": "code",
   "execution_count": 74,
   "id": "96460edc",
   "metadata": {},
   "outputs": [
    {
     "data": {
      "text/plain": [
       "9.109910725840086"
      ]
     },
     "execution_count": 74,
     "metadata": {},
     "output_type": "execute_result"
    }
   ],
   "source": [
    "#gravedad experimentalmente\n",
    "gravedad(2,periodoexpe(datos_tbajos7))"
   ]
  },
  {
   "cell_type": "code",
   "execution_count": 75,
   "id": "969a1ec7",
   "metadata": {},
   "outputs": [
    {
     "data": {
      "text/plain": [
       "2.838453790227457"
      ]
     },
     "execution_count": 75,
     "metadata": {},
     "output_type": "execute_result"
    }
   ],
   "source": [
    "#teorico\n",
    "Periodo(2,9.8)"
   ]
  },
  {
   "cell_type": "code",
   "execution_count": 76,
   "id": "d05e5359",
   "metadata": {
    "scrolled": true
   },
   "outputs": [
    {
     "data": {
      "text/plain": [
       "2.9519159069840737"
      ]
     },
     "execution_count": 76,
     "metadata": {},
     "output_type": "execute_result"
    }
   ],
   "source": [
    "#teorico serie\n",
    "Periodogeneral(2,9.8,45*np.pi/180)"
   ]
  },
  {
   "cell_type": "markdown",
   "id": "95700c2d",
   "metadata": {},
   "source": [
    "2-60"
   ]
  },
  {
   "cell_type": "code",
   "execution_count": 77,
   "id": "930573ec",
   "metadata": {
    "scrolled": true
   },
   "outputs": [
    {
     "data": {
      "text/plain": [
       "2.944000000000002"
      ]
     },
     "execution_count": 77,
     "metadata": {},
     "output_type": "execute_result"
    }
   ],
   "source": [
    "#periodo experimentalmente\n",
    "periodoexpe(datos_tbajos8)"
   ]
  },
  {
   "cell_type": "code",
   "execution_count": 78,
   "id": "fde60a3e",
   "metadata": {},
   "outputs": [
    {
     "data": {
      "text/plain": [
       "9.109910725840086"
      ]
     },
     "execution_count": 78,
     "metadata": {},
     "output_type": "execute_result"
    }
   ],
   "source": [
    "#gravedad experimentalmente\n",
    "gravedad(2,periodoexpe(datos_tbajos8))"
   ]
  },
  {
   "cell_type": "code",
   "execution_count": 79,
   "id": "6cde9f30",
   "metadata": {},
   "outputs": [
    {
     "data": {
      "text/plain": [
       "2.838453790227457"
      ]
     },
     "execution_count": 79,
     "metadata": {},
     "output_type": "execute_result"
    }
   ],
   "source": [
    "#teorico\n",
    "Periodo(2,9.8)"
   ]
  },
  {
   "cell_type": "code",
   "execution_count": 80,
   "id": "9a6acbf6",
   "metadata": {
    "scrolled": true
   },
   "outputs": [
    {
     "data": {
      "text/plain": [
       "3.046170659035445"
      ]
     },
     "execution_count": 80,
     "metadata": {},
     "output_type": "execute_result"
    }
   ],
   "source": [
    "#teorico serie\n",
    "Periodogeneral(2,9.8,60*np.pi/180)"
   ]
  },
  {
   "cell_type": "markdown",
   "id": "549a94e7",
   "metadata": {},
   "source": [
    "### ★━━━━━━━━━━━━━━━━━━━━━━━━━━━━ 300 ml ━━━━━━━━━━━━━━━━━━━━━━━━━━━━━━━━━━━━★"
   ]
  },
  {
   "cell_type": "code",
   "execution_count": null,
   "id": "c038aa5d",
   "metadata": {},
   "outputs": [],
   "source": []
  },
  {
   "cell_type": "markdown",
   "id": "c6cb23ae",
   "metadata": {},
   "source": [
    "1-30"
   ]
  },
  {
   "cell_type": "code",
   "execution_count": 124,
   "id": "7fe29d0b",
   "metadata": {
    "scrolled": true
   },
   "outputs": [
    {
     "data": {
      "text/plain": [
       "2.0898"
      ]
     },
     "execution_count": 124,
     "metadata": {},
     "output_type": "execute_result"
    }
   ],
   "source": [
    "#periodo experimentalmente\n",
    "periodoexpe(datost5)"
   ]
  },
  {
   "cell_type": "code",
   "execution_count": 125,
   "id": "39e21caa",
   "metadata": {},
   "outputs": [
    {
     "data": {
      "text/plain": [
       "9.039622345425544"
      ]
     },
     "execution_count": 125,
     "metadata": {},
     "output_type": "execute_result"
    }
   ],
   "source": [
    "#gravedad experimentalmente\n",
    "gravedad(1,periodoexpe(datost5))"
   ]
  },
  {
   "cell_type": "code",
   "execution_count": 83,
   "id": "83a51588",
   "metadata": {},
   "outputs": [
    {
     "data": {
      "text/plain": [
       "2.007089923154493"
      ]
     },
     "execution_count": 83,
     "metadata": {},
     "output_type": "execute_result"
    }
   ],
   "source": [
    "#teorico\n",
    "Periodo(1,9.8)"
   ]
  },
  {
   "cell_type": "code",
   "execution_count": 84,
   "id": "41512fa6",
   "metadata": {
    "scrolled": true
   },
   "outputs": [
    {
     "data": {
      "text/plain": [
       "2.042030940971334"
      ]
     },
     "execution_count": 84,
     "metadata": {},
     "output_type": "execute_result"
    }
   ],
   "source": [
    "#teorico serie\n",
    "Periodogeneral(1,9.8,30*np.pi/180)"
   ]
  },
  {
   "cell_type": "code",
   "execution_count": null,
   "id": "122188eb",
   "metadata": {},
   "outputs": [],
   "source": []
  },
  {
   "cell_type": "markdown",
   "id": "fa11b379",
   "metadata": {},
   "source": [
    "1-45"
   ]
  },
  {
   "cell_type": "code",
   "execution_count": 85,
   "id": "72b033da",
   "metadata": {
    "scrolled": true
   },
   "outputs": [
    {
     "data": {
      "text/plain": [
       "2.139"
      ]
     },
     "execution_count": 85,
     "metadata": {},
     "output_type": "execute_result"
    }
   ],
   "source": [
    "#periodo experimentalmente\n",
    "periodoexpe(datost3)"
   ]
  },
  {
   "cell_type": "code",
   "execution_count": 86,
   "id": "35ce3ed4",
   "metadata": {},
   "outputs": [
    {
     "data": {
      "text/plain": [
       "8.628556904391504"
      ]
     },
     "execution_count": 86,
     "metadata": {},
     "output_type": "execute_result"
    }
   ],
   "source": [
    "#gravedad experimentalmente\n",
    "gravedad(1,periodoexpe(datost3))"
   ]
  },
  {
   "cell_type": "code",
   "execution_count": 87,
   "id": "fd438e40",
   "metadata": {},
   "outputs": [
    {
     "data": {
      "text/plain": [
       "2.007089923154493"
      ]
     },
     "execution_count": 87,
     "metadata": {},
     "output_type": "execute_result"
    }
   ],
   "source": [
    "#teorico\n",
    "Periodo(1,9.8)"
   ]
  },
  {
   "cell_type": "code",
   "execution_count": 88,
   "id": "6ccf7783",
   "metadata": {
    "scrolled": true
   },
   "outputs": [
    {
     "data": {
      "text/plain": [
       "2.0873197553208764"
      ]
     },
     "execution_count": 88,
     "metadata": {},
     "output_type": "execute_result"
    }
   ],
   "source": [
    "#teorico serie\n",
    "Periodogeneral(1,9.8,45*np.pi/180)"
   ]
  },
  {
   "cell_type": "markdown",
   "id": "980dee7d",
   "metadata": {},
   "source": [
    "1-60"
   ]
  },
  {
   "cell_type": "code",
   "execution_count": 89,
   "id": "01348ead",
   "metadata": {
    "scrolled": true
   },
   "outputs": [
    {
     "data": {
      "text/plain": [
       "2.1904000000000003"
      ]
     },
     "execution_count": 89,
     "metadata": {},
     "output_type": "execute_result"
    }
   ],
   "source": [
    "#periodo experimentalmente\n",
    "periodoexpe(datost7)"
   ]
  },
  {
   "cell_type": "code",
   "execution_count": 90,
   "id": "154c2f51",
   "metadata": {},
   "outputs": [
    {
     "data": {
      "text/plain": [
       "8.228352247593518"
      ]
     },
     "execution_count": 90,
     "metadata": {},
     "output_type": "execute_result"
    }
   ],
   "source": [
    "#gravedad experimentalmente\n",
    "gravedad(1,periodoexpe(datost7))"
   ]
  },
  {
   "cell_type": "code",
   "execution_count": 91,
   "id": "20dd2b59",
   "metadata": {},
   "outputs": [
    {
     "data": {
      "text/plain": [
       "2.007089923154493"
      ]
     },
     "execution_count": 91,
     "metadata": {},
     "output_type": "execute_result"
    }
   ],
   "source": [
    "#teorico\n",
    "Periodo(1,9.8)"
   ]
  },
  {
   "cell_type": "code",
   "execution_count": 92,
   "id": "bd682469",
   "metadata": {
    "scrolled": true
   },
   "outputs": [
    {
     "data": {
      "text/plain": [
       "2.1539679296554577"
      ]
     },
     "execution_count": 92,
     "metadata": {},
     "output_type": "execute_result"
    }
   ],
   "source": [
    "#teorico serie\n",
    "Periodogeneral(1,9.8,60*np.pi/180)"
   ]
  },
  {
   "cell_type": "markdown",
   "id": "41b062e0",
   "metadata": {},
   "source": [
    "2-30"
   ]
  },
  {
   "cell_type": "code",
   "execution_count": 93,
   "id": "55d4df4c",
   "metadata": {
    "scrolled": true
   },
   "outputs": [
    {
     "data": {
      "text/plain": [
       "2.9382999999999995"
      ]
     },
     "execution_count": 93,
     "metadata": {},
     "output_type": "execute_result"
    }
   ],
   "source": [
    "#periodo experimentalmente\n",
    "periodoexpe(datost6)"
   ]
  },
  {
   "cell_type": "code",
   "execution_count": 94,
   "id": "1dd0dc28",
   "metadata": {},
   "outputs": [
    {
     "data": {
      "text/plain": [
       "9.145289589240829"
      ]
     },
     "execution_count": 94,
     "metadata": {},
     "output_type": "execute_result"
    }
   ],
   "source": [
    "#gravedad experimentalmente\n",
    "gravedad(2,periodoexpe(datost6))"
   ]
  },
  {
   "cell_type": "code",
   "execution_count": 95,
   "id": "7ed0c515",
   "metadata": {},
   "outputs": [
    {
     "data": {
      "text/plain": [
       "2.838453790227457"
      ]
     },
     "execution_count": 95,
     "metadata": {},
     "output_type": "execute_result"
    }
   ],
   "source": [
    "#teorico\n",
    "Periodo(2,9.8)"
   ]
  },
  {
   "cell_type": "code",
   "execution_count": 96,
   "id": "51267c3c",
   "metadata": {
    "scrolled": true
   },
   "outputs": [
    {
     "data": {
      "text/plain": [
       "2.887867851507154"
      ]
     },
     "execution_count": 96,
     "metadata": {},
     "output_type": "execute_result"
    }
   ],
   "source": [
    "#teorico serie\n",
    "Periodogeneral(2,9.8,30*np.pi/180)"
   ]
  },
  {
   "cell_type": "markdown",
   "id": "517aa8b6",
   "metadata": {},
   "source": [
    "2-45"
   ]
  },
  {
   "cell_type": "code",
   "execution_count": 97,
   "id": "797fa606",
   "metadata": {
    "scrolled": true
   },
   "outputs": [
    {
     "data": {
      "text/plain": [
       "2.9646"
      ]
     },
     "execution_count": 97,
     "metadata": {},
     "output_type": "execute_result"
    }
   ],
   "source": [
    "#periodo experimentalmente\n",
    "periodoexpe(datost4)"
   ]
  },
  {
   "cell_type": "code",
   "execution_count": 98,
   "id": "7ee6eb3c",
   "metadata": {},
   "outputs": [
    {
     "data": {
      "text/plain": [
       "8.983747227461345"
      ]
     },
     "execution_count": 98,
     "metadata": {},
     "output_type": "execute_result"
    }
   ],
   "source": [
    "#gravedad experimentalmente\n",
    "gravedad(2,periodoexpe(datost4))"
   ]
  },
  {
   "cell_type": "code",
   "execution_count": 99,
   "id": "415e6d43",
   "metadata": {},
   "outputs": [
    {
     "data": {
      "text/plain": [
       "2.838453790227457"
      ]
     },
     "execution_count": 99,
     "metadata": {},
     "output_type": "execute_result"
    }
   ],
   "source": [
    "#teorico\n",
    "Periodo(2,9.8)"
   ]
  },
  {
   "cell_type": "code",
   "execution_count": 100,
   "id": "c05488ac",
   "metadata": {
    "scrolled": true
   },
   "outputs": [
    {
     "data": {
      "text/plain": [
       "2.9519159069840737"
      ]
     },
     "execution_count": 100,
     "metadata": {},
     "output_type": "execute_result"
    }
   ],
   "source": [
    "#teorico serie\n",
    "Periodogeneral(2,9.8,45*np.pi/180)"
   ]
  },
  {
   "cell_type": "markdown",
   "id": "c3ae26e5",
   "metadata": {},
   "source": [
    "2-60"
   ]
  },
  {
   "cell_type": "code",
   "execution_count": 101,
   "id": "7524fd45",
   "metadata": {
    "scrolled": true
   },
   "outputs": [
    {
     "data": {
      "text/plain": [
       "3.0671000000000004"
      ]
     },
     "execution_count": 101,
     "metadata": {},
     "output_type": "execute_result"
    }
   ],
   "source": [
    "#periodo experimentalmente\n",
    "periodoexpe(datost8)"
   ]
  },
  {
   "cell_type": "code",
   "execution_count": 102,
   "id": "b5b876b4",
   "metadata": {},
   "outputs": [
    {
     "data": {
      "text/plain": [
       "8.393321531695204"
      ]
     },
     "execution_count": 102,
     "metadata": {},
     "output_type": "execute_result"
    }
   ],
   "source": [
    "#gravedad experimentalmente\n",
    "gravedad(2,periodoexpe(datost8))"
   ]
  },
  {
   "cell_type": "code",
   "execution_count": 103,
   "id": "534a800f",
   "metadata": {},
   "outputs": [
    {
     "data": {
      "text/plain": [
       "2.838453790227457"
      ]
     },
     "execution_count": 103,
     "metadata": {},
     "output_type": "execute_result"
    }
   ],
   "source": [
    "#teorico\n",
    "Periodo(2,9.8)"
   ]
  },
  {
   "cell_type": "code",
   "execution_count": 104,
   "id": "6abd59ef",
   "metadata": {
    "scrolled": true
   },
   "outputs": [
    {
     "data": {
      "text/plain": [
       "3.046170659035445"
      ]
     },
     "execution_count": 104,
     "metadata": {},
     "output_type": "execute_result"
    }
   ],
   "source": [
    "#teorico serie\n",
    "Periodogeneral(2,9.8,60*np.pi/180)"
   ]
  },
  {
   "attachments": {
    "image-2.png": {
     "image/png": "[encoded data removed]"
    }
   },
   "cell_type": "markdown",
   "id": "06ebc7f8",
   "metadata": {},
   "source": [
    "Masa(gr)\tLongitud(mt)\tamplitud(°)\tamplitud(rad)\tT ex(1/s)\tT teórico (1/s)\tT serie(1/s)\tg(mt/s^2)\n",
    "300\t1\t3,2\t0,055850667\t2,006\t2,007\t2,007\t9,81\n",
    "\t2\t3,2\t0,055850667\t2,83\t2,83\t2,83\t9,81\n",
    "\t1\t30\t0,5236\t2,089\t2,007\t2,04\t9,03\n",
    "\t2\t30\t0,5236\t2,938\t2,83\t2,88\t9,14\n",
    "\t1\t45\t0,7854\t2,139\t2,007\t2,08\t8,62\n",
    "\t2\t45\t0,7854\t2,964\t2,838\t2,951\t8,98\n",
    "\t1\t60\t1,0472\t2,19\t2,007\t2,153\t8,2\n",
    "\t2\t60\t1,0472\t3,0671\t2,838\t3,04\t8,39\n",
    "600\t1\t3,2\t0,055850667\t2\t2,007\t2,007\t9,86\n",
    "\t2\t3,2\t0,055850667\t2,852\t2,838\t2,839\t9,707\n",
    "\t1\t30\t0,5236\t2,016\t2,007\t2,04\t9,71\n",
    "\t2\t30\t0,5236\t2,992\t2,8384\t2,94\t8,81\n",
    "\t1\t45\t0,7854\t2,144\t2,007\t2,08\t8,5\n",
    "\t2\t45\t0,7854\t2,94\t2,83\t2,95\t9,1\n",
    "\t1\t60\t1,0472\t2,12\t2,007\t2,15\t8,71\n",
    "\t2\t60\t1,0472\t2,944\t2,83\t2,933\t9,1\n",
    "![image-2.png](attachment:image-2.png)"
   ]
  },
  {
   "cell_type": "markdown",
   "id": "c79e1a0e",
   "metadata": {},
   "source": [
    "## Simulacion "
   ]
  },
  {
   "cell_type": "markdown",
   "id": "ca865023",
   "metadata": {},
   "source": [
    "Cualquier oscilación\n",
    "\n",
    "$$\\frac{d^{2}\\theta}{dt^{2}}=\n",
    "\\frac{-g}{l}  sen(\\theta)$$"
   ]
  },
  {
   "cell_type": "markdown",
   "id": "1248569d",
   "metadata": {},
   "source": [
    "oscilaciones bajas\n",
    "\n",
    "$$\\frac{d^{2}\\theta}{dt^{2}}=\n",
    "\\frac{-g}{l}  (\\theta)$$"
   ]
  },
  {
   "cell_type": "markdown",
   "id": "6b124f48",
   "metadata": {},
   "source": [
    "### Evaluamos y graficamos para cada ensayo\n",
    "como el angulo no depende de la masa,solo tendremos en cuenta la grafica de una sola masa"
   ]
  },
  {
   "cell_type": "markdown",
   "id": "96594c03",
   "metadata": {},
   "source": [
    "### 3.2-1metro"
   ]
  },
  {
   "cell_type": "code",
   "execution_count": 105,
   "id": "40fc6c40",
   "metadata": {},
   "outputs": [],
   "source": [
    "def mps(x01, x02, L):\n",
    "     \n",
    "    def df1(f1,t):\n",
    "        x1,v1=f1[0],f1[1]\n",
    "        dx1=v1\n",
    "        dv1=(-g/L)*x1\n",
    "        return [dx1,dv1]\n",
    "    \n",
    "    def df2(f2,t):\n",
    "        x2,v2=f2[0],f2[1]\n",
    "        dx2=v2\n",
    "        dv2=(-g/L)*np.sin(x2)\n",
    "        return [dx2,dv2]\n",
    "    \n",
    "    t=np.arange(0,max(datos_tbajos)+0.016,0.016)\n",
    "    sol1=odeint(df1,x01,t)\n",
    "    sol2=odeint(df2,x02,t)\n",
    "    f1=sol1[:,0] \n",
    "    f2=sol2[:,0]\n",
    "    \n",
    "    plt.grid()\n",
    "    plt.plot(t,f1,color=\"b\",lw=3,label=\"Lineal\")\n",
    "    plt.plot(datos_tbajos,datos_anbajos*np.pi/180, \"k\", label=\"Experimento\")\n",
    "    plt.legend(fontsize=7)\n",
    "    plt.xlabel(\"Tiempo (s)\")\n",
    "    plt.ylabel(\"θ (radianes)\")\n",
    "    plt.title(\"\")\n",
    "    plt.show()\n",
    "    return mps"
   ]
  },
  {
   "cell_type": "code",
   "execution_count": 106,
   "id": "27a6e76d",
   "metadata": {
    "scrolled": true
   },
   "outputs": [
    {
     "data": {
      "image/png": "[encoded data removed]",
      "text/plain": [
       "<Figure size 432x288 with 1 Axes>"
      ]
     },
     "metadata": {
      "needs_background": "light"
     },
     "output_type": "display_data"
    },
    {
     "data": {
      "text/plain": [
       "<function __main__.mps(x01, x02, L)>"
      ]
     },
     "execution_count": 106,
     "metadata": {},
     "output_type": "execute_result"
    }
   ],
   "source": [
    "mps([3.2*np.pi/180,0],[3.2*np.pi/180,0],1)"
   ]
  },
  {
   "cell_type": "markdown",
   "id": "72d7d859",
   "metadata": {},
   "source": [
    "### 3.2-2metros\n",
    "sale mejor con las de david"
   ]
  },
  {
   "cell_type": "code",
   "execution_count": 122,
   "id": "90cf8cef",
   "metadata": {},
   "outputs": [],
   "source": [
    "def mps(x01, x02, L):\n",
    "     \n",
    "    def df1(f1,t):\n",
    "        x1,v1=f1[0],f1[1]\n",
    "        dx1=v1\n",
    "        dv1=(-g/L)*x1\n",
    "        return [dx1,dv1]\n",
    "    \n",
    "    def df2(f2,t):\n",
    "        x2,v2=f2[0],f2[1]\n",
    "        dx2=v2\n",
    "        dv2=(-g/L)*np.sin(x2)\n",
    "        return [dx2,dv2]\n",
    "    \n",
    "    t=np.arange(0,max(datost2)+0.016,0.016)\n",
    "    sol1=odeint(df1,x01,t)\n",
    "    sol2=odeint(df2,x02,t)\n",
    "    f1=sol1[:,0] \n",
    "    f2=sol2[:,0]\n",
    "    \n",
    "    plt.grid()\n",
    "    plt.plot(t,f1,color=\"b\",lw=3,label=\"Lineal\")\n",
    "    plt.plot(datost2,datostheta2*np.pi/180, \"k\", label=\"Experimento\")\n",
    "    plt.legend(fontsize=9)\n",
    "    plt.xlabel(\"Tiempo (s)\")\n",
    "    plt.ylabel(\"θ (radianes)\")\n",
    "    plt.title(\"\")\n",
    "    plt.show()\n",
    "    return mps"
   ]
  },
  {
   "cell_type": "code",
   "execution_count": 123,
   "id": "5ff1d545",
   "metadata": {
    "scrolled": true
   },
   "outputs": [
    {
     "data": {
      "image/png": "[encoded data removed]",
      "text/plain": [
       "<Figure size 432x288 with 1 Axes>"
      ]
     },
     "metadata": {
      "needs_background": "light"
     },
     "output_type": "display_data"
    },
    {
     "data": {
      "text/plain": [
       "<function __main__.mps(x01, x02, L)>"
      ]
     },
     "execution_count": 123,
     "metadata": {},
     "output_type": "execute_result"
    }
   ],
   "source": [
    "mps([3.2*np.pi/180,0],[3.2*np.pi/180,0],2)"
   ]
  },
  {
   "cell_type": "markdown",
   "id": "668eb047",
   "metadata": {},
   "source": [
    "### 30-1metro"
   ]
  },
  {
   "cell_type": "code",
   "execution_count": 109,
   "id": "2babcbea",
   "metadata": {},
   "outputs": [],
   "source": [
    "def mps(x01, x02, L):\n",
    "     \n",
    "    def df1(f1,t):\n",
    "        x1,v1=f1[0],f1[1]\n",
    "        dx1=v1\n",
    "        dv1=(-g/L)*x1\n",
    "        return [dx1,dv1]\n",
    "    \n",
    "    def df2(f2,t):\n",
    "        x2,v2=f2[0],f2[1]\n",
    "        dx2=v2\n",
    "        dv2=(-g/L)*np.sin(x2)\n",
    "        return [dx2,dv2]\n",
    "    \n",
    "    t=np.arange(0,max(datos_tbajos3)+0.016,0.016)\n",
    "    sol1=odeint(df1,x01,t)\n",
    "    sol2=odeint(df2,x02,t)\n",
    "    f1=sol1[:,0] \n",
    "    f2=sol2[:,0]\n",
    "    \n",
    "    plt.grid()\n",
    "    plt.plot(t,f2,color=\"r\",lw=3,label=\"No Lineal\")\n",
    "    plt.plot(datos_tbajos3,datos_anbajos3*np.pi/180, \"k\", label=\"Experimento\")\n",
    "    plt.legend(fontsize=9)\n",
    "    plt.xlabel(\"Tiempo (s)\")\n",
    "    plt.ylabel(\"θ (radianes)\")\n",
    "    plt.title(\"\")\n",
    "    plt.show()\n",
    "    return mps"
   ]
  },
  {
   "cell_type": "code",
   "execution_count": 110,
   "id": "c85cce4f",
   "metadata": {
    "scrolled": true
   },
   "outputs": [
    {
     "data": {
      "image/png": "[encoded data removed]",
      "text/plain": [
       "<Figure size 432x288 with 1 Axes>"
      ]
     },
     "metadata": {
      "needs_background": "light"
     },
     "output_type": "display_data"
    },
    {
     "data": {
      "text/plain": [
       "<function __main__.mps(x01, x02, L)>"
      ]
     },
     "execution_count": 110,
     "metadata": {},
     "output_type": "execute_result"
    }
   ],
   "source": [
    "mps([30*np.pi/180,0],[30*np.pi/180,0],1)"
   ]
  },
  {
   "cell_type": "markdown",
   "id": "67a3b1a8",
   "metadata": {},
   "source": [
    "### 45-1metro"
   ]
  },
  {
   "cell_type": "code",
   "execution_count": 111,
   "id": "539c09d5",
   "metadata": {},
   "outputs": [],
   "source": [
    "def mps(x01, x02, L):\n",
    "     \n",
    "    def df1(f1,t):\n",
    "        x1,v1=f1[0],f1[1]\n",
    "        dx1=v1\n",
    "        dv1=(-g/L)*x1\n",
    "        return [dx1,dv1]\n",
    "    \n",
    "    def df2(f2,t):\n",
    "        x2,v2=f2[0],f2[1]\n",
    "        dx2=v2\n",
    "        dv2=(-g/L)*np.sin(x2)\n",
    "        return [dx2,dv2]\n",
    "    \n",
    "    t=np.arange(0,max(datos_tbajos4)+0.016,0.016)\n",
    "    sol1=odeint(df1,x01,t)\n",
    "    sol2=odeint(df2,x02,t)\n",
    "    f1=sol1[:,0] \n",
    "    f2=sol2[:,0]\n",
    "    \n",
    "    plt.grid()\n",
    "\n",
    "    plt.plot(t,f2,color=\"r\",lw=3,label=\"No Lineal\")\n",
    "    plt.plot(datos_tbajos4,datos_anbajos4*np.pi/180, \"k\", label=\"Experimento\")\n",
    "    plt.legend(fontsize=9)\n",
    "    plt.xlabel(\"Tiempo (s)\")\n",
    "    plt.ylabel(\"θ (radianes)\")\n",
    "    plt.title(\"\")\n",
    "    plt.show()\n",
    "    return mps"
   ]
  },
  {
   "cell_type": "code",
   "execution_count": 112,
   "id": "6aa2b5fd",
   "metadata": {},
   "outputs": [
    {
     "data": {
      "image/png": "[encoded data removed]",
      "text/plain": [
       "<Figure size 432x288 with 1 Axes>"
      ]
     },
     "metadata": {
      "needs_background": "light"
     },
     "output_type": "display_data"
    },
    {
     "data": {
      "text/plain": [
       "<function __main__.mps(x01, x02, L)>"
      ]
     },
     "execution_count": 112,
     "metadata": {},
     "output_type": "execute_result"
    }
   ],
   "source": [
    "mps([45*np.pi/180,0],[45*np.pi/180,0],1)"
   ]
  },
  {
   "cell_type": "code",
   "execution_count": null,
   "id": "735c691d",
   "metadata": {},
   "outputs": [],
   "source": []
  },
  {
   "cell_type": "markdown",
   "id": "62d5e01b",
   "metadata": {},
   "source": [
    "### 60-1metro"
   ]
  },
  {
   "cell_type": "code",
   "execution_count": 113,
   "id": "0022bb26",
   "metadata": {},
   "outputs": [],
   "source": [
    "def mps(x01, x02, L):\n",
    "     \n",
    "    def df1(f1,t):\n",
    "        x1,v1=f1[0],f1[1]\n",
    "        dx1=v1\n",
    "        dv1=(-g/L)*x1\n",
    "        return [dx1,dv1]\n",
    "    \n",
    "    def df2(f2,t):\n",
    "        x2,v2=f2[0],f2[1]\n",
    "        dx2=v2\n",
    "        dv2=(-g/L)*np.sin(x2)\n",
    "        return [dx2,dv2]\n",
    "    \n",
    "    t=np.arange(0,max(datos_tbajos5)+0.016,0.016)\n",
    "    sol1=odeint(df1,x01,t)\n",
    "    sol2=odeint(df2,x02,t)\n",
    "    f1=sol1[:,0] \n",
    "    f2=sol2[:,0]\n",
    "    \n",
    "    plt.grid()\n",
    "    plt.plot(t,f2,color=\"r\",lw=3,label=\"No Lineal\")\n",
    "    plt.plot(datos_tbajos5,datos_anbajos5*np.pi/180, \"k\", label=\"Experimento\")\n",
    "    plt.legend(fontsize=9)\n",
    "    plt.xlabel(\"tiempo\")\n",
    "    plt.ylabel(\"posición\")\n",
    "    plt.title(\"modelo del pendulo simple\")\n",
    "    plt.show()\n",
    "    return mps"
   ]
  },
  {
   "cell_type": "code",
   "execution_count": 114,
   "id": "d1bf8bdc",
   "metadata": {
    "scrolled": true
   },
   "outputs": [
    {
     "data": {
      "image/png": "[encoded data removed]",
      "text/plain": [
       "<Figure size 432x288 with 1 Axes>"
      ]
     },
     "metadata": {
      "needs_background": "light"
     },
     "output_type": "display_data"
    },
    {
     "data": {
      "text/plain": [
       "<function __main__.mps(x01, x02, L)>"
      ]
     },
     "execution_count": 114,
     "metadata": {},
     "output_type": "execute_result"
    }
   ],
   "source": [
    "mps([60*np.pi/180,0],[60*np.pi/180,0],1)"
   ]
  },
  {
   "cell_type": "markdown",
   "id": "e1d9e028",
   "metadata": {},
   "source": [
    "### 30-2metros"
   ]
  },
  {
   "cell_type": "code",
   "execution_count": 115,
   "id": "6aeb129c",
   "metadata": {},
   "outputs": [],
   "source": [
    "def mps(x01, x02, L):\n",
    "     \n",
    "    def df1(f1,t):\n",
    "        x1,v1=f1[0],f1[1]\n",
    "        dx1=v1\n",
    "        dv1=(-g/L)*x1\n",
    "        return [dx1,dv1]\n",
    "    \n",
    "    def df2(f2,t):\n",
    "        x2,v2=f2[0],f2[1]\n",
    "        dx2=v2\n",
    "        dv2=(-g/L)*np.sin(x2)\n",
    "        return [dx2,dv2]\n",
    "    \n",
    "    t=np.arange(0,max(datos_tbajos6)+0.016,0.016)\n",
    "    sol1=odeint(df1,x01,t)\n",
    "    sol2=odeint(df2,x02,t)\n",
    "    f1=sol1[:,0] \n",
    "    f2=sol2[:,0]\n",
    "    \n",
    "    plt.grid()\n",
    "    plt.plot(t,f2,color=\"r\",lw=3,label=\"No Lineal\")\n",
    "    plt.plot(datos_tbajos6,datos_anbajos6*np.pi/180, \"k\", label=\"Experimento\")\n",
    "    plt.legend(fontsize=9)\n",
    "    plt.xlabel(\"Tiempo (s)\")\n",
    "    plt.ylabel(\"θ (radianes)\")\n",
    "    plt.title(\"\")\n",
    "    plt.show()\n",
    "    return mps"
   ]
  },
  {
   "cell_type": "code",
   "execution_count": 116,
   "id": "0fb35985",
   "metadata": {},
   "outputs": [
    {
     "data": {
      "image/png": "[encoded data removed]",
      "text/plain": [
       "<Figure size 432x288 with 1 Axes>"
      ]
     },
     "metadata": {
      "needs_background": "light"
     },
     "output_type": "display_data"
    },
    {
     "data": {
      "text/plain": [
       "<function __main__.mps(x01, x02, L)>"
      ]
     },
     "execution_count": 116,
     "metadata": {},
     "output_type": "execute_result"
    }
   ],
   "source": [
    "mps([30*np.pi/180,0],[30*np.pi/180,0],2)"
   ]
  },
  {
   "cell_type": "code",
   "execution_count": null,
   "id": "a2985f3d",
   "metadata": {},
   "outputs": [],
   "source": []
  },
  {
   "cell_type": "markdown",
   "id": "f9a20778",
   "metadata": {},
   "source": [
    "### 45-2metros"
   ]
  },
  {
   "cell_type": "code",
   "execution_count": 117,
   "id": "ca0a1a30",
   "metadata": {},
   "outputs": [],
   "source": [
    "def mps(x01, x02, L):\n",
    "     \n",
    "    def df1(f1,t):\n",
    "        x1,v1=f1[0],f1[1]\n",
    "        dx1=v1\n",
    "        dv1=(-g/L)*x1\n",
    "        return [dx1,dv1]\n",
    "    \n",
    "    def df2(f2,t):\n",
    "        x2,v2=f2[0],f2[1]\n",
    "        dx2=v2\n",
    "        dv2=(-g/L)*np.sin(x2)\n",
    "        return [dx2,dv2]\n",
    "    \n",
    "    t=np.arange(0,max(datos_tbajos7)+0.016,0.016)\n",
    "    sol1=odeint(df1,x01,t)\n",
    "    sol2=odeint(df2,x02,t)\n",
    "    f1=sol1[:,0] \n",
    "    f2=sol2[:,0]\n",
    "    \n",
    "    plt.grid()\n",
    "    plt.plot(t,f1,color=\"r\",lw=3,label=\"No Lineal\")\n",
    "    plt.plot(datos_tbajos7,datos_anbajos7*np.pi/180, \"k\", label=\"Experimento\")\n",
    "    plt.legend(fontsize=9)\n",
    "    plt.xlabel(\"Tiempo (s)\")\n",
    "    plt.ylabel(\"θ (radianes)\")\n",
    "    plt.title(\"\")\n",
    "    plt.show()\n",
    "    return mps"
   ]
  },
  {
   "cell_type": "code",
   "execution_count": 118,
   "id": "d94dd1e1",
   "metadata": {
    "scrolled": true
   },
   "outputs": [
    {
     "data": {
      "image/png": "[encoded data removed]",
      "text/plain": [
       "<Figure size 432x288 with 1 Axes>"
      ]
     },
     "metadata": {
      "needs_background": "light"
     },
     "output_type": "display_data"
    },
    {
     "data": {
      "text/plain": [
       "<function __main__.mps(x01, x02, L)>"
      ]
     },
     "execution_count": 118,
     "metadata": {},
     "output_type": "execute_result"
    }
   ],
   "source": [
    "mps([45*np.pi/180,0],[45*np.pi/180,0],2)"
   ]
  },
  {
   "cell_type": "markdown",
   "id": "98e094c4",
   "metadata": {},
   "source": [
    "### 60-2metros"
   ]
  },
  {
   "cell_type": "code",
   "execution_count": 119,
   "id": "8df73f0e",
   "metadata": {},
   "outputs": [],
   "source": [
    "def mps(x01, x02, L):\n",
    "     \n",
    "    def df1(f1,t):\n",
    "        x1,v1=f1[0],f1[1]\n",
    "        dx1=v1\n",
    "        dv1=(-g/L)*x1\n",
    "        return [dx1,dv1]\n",
    "    \n",
    "    def df2(f2,t):\n",
    "        x2,v2=f2[0],f2[1]\n",
    "        dx2=v2\n",
    "        dv2=(-g/L)*np.sin(x2)\n",
    "        return [dx2,dv2]\n",
    "    \n",
    "    t=np.arange(0,max(datos_tbajos8)+0.016,0.016)\n",
    "    sol1=odeint(df1,x01,t)\n",
    "    sol2=odeint(df2,x02,t)\n",
    "    f1=sol1[:,0] \n",
    "    f2=sol2[:,0]\n",
    "    \n",
    "    plt.grid()\n",
    "    plt.plot(t,f2,color=\"r\",lw=3,label=\"No Lineal\")\n",
    "    plt.plot(datos_tbajos8,datos_anbajos8*np.pi/180, \"k\", label=\"Experimento\")\n",
    "    plt.legend(fontsize=9)\n",
    "    plt.xlabel(\"Tiempo (s)\")\n",
    "    plt.ylabel(\"θ (radianes)\")\n",
    "    plt.title(\"\")\n",
    "    plt.show()\n",
    "    return mps"
   ]
  },
  {
   "cell_type": "code",
   "execution_count": 120,
   "id": "c95d9d13",
   "metadata": {},
   "outputs": [
    {
     "data": {
      "image/png": "[encoded data removed]",
      "text/plain": [
       "<Figure size 432x288 with 1 Axes>"
      ]
     },
     "metadata": {
      "needs_background": "light"
     },
     "output_type": "display_data"
    },
    {
     "data": {
      "text/plain": [
       "<function __main__.mps(x01, x02, L)>"
      ]
     },
     "execution_count": 120,
     "metadata": {},
     "output_type": "execute_result"
    }
   ],
   "source": [
    "mps([60*np.pi/180,0],[60*np.pi/180,0],2)"
   ]
  },
  {
   "cell_type": "code",
   "execution_count": null,
   "id": "13419bf9",
   "metadata": {},
   "outputs": [],
   "source": []
  }
 ],
 "metadata": {
  "kernelspec": {
   "display_name": "Python 3",
   "language": "python",
   "name": "python3"
  },
  "language_info": {
   "codemirror_mode": {
    "name": "ipython",
    "version": 3
   },
   "file_extension": ".py",
   "mimetype": "text/x-python",
   "name": "python",
   "nbconvert_exporter": "python",
   "pygments_lexer": "ipython3",
   "version": "3.8.8"
  }
 },
 "nbformat": 4,
 "nbformat_minor": 5
}
