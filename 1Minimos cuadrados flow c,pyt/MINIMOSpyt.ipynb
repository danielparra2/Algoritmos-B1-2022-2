{
 "cells": [
  {
   "cell_type": "code",
   "execution_count": 2,
   "metadata": {},
   "outputs": [],
   "source": [
    "#DANIEL PARRA^2 2191072\n",
    "import numpy as np\n",
    "import matplotlib.pyplot as plt"
   ]
  },
  {
   "cell_type": "markdown",
   "metadata": {},
   "source": [
    "##### Le pedimos al usuario que ingrese n y luego que ingrese las coordenadas"
   ]
  },
  {
   "cell_type": "code",
   "execution_count": 3,
   "metadata": {},
   "outputs": [
    {
     "name": "stdout",
     "output_type": "stream",
     "text": [
      "su n es  4\n"
     ]
    }
   ],
   "source": [
    "n=int(input(\"Digite n\"))\n",
    "print(\"su n es \",n)"
   ]
  },
  {
   "cell_type": "code",
   "execution_count": 4,
   "metadata": {},
   "outputs": [
    {
     "name": "stdout",
     "output_type": "stream",
     "text": [
      "[1. 2. 3. 4.]\n"
     ]
    }
   ],
   "source": [
    "x=np.zeros(n)\n",
    "for i in range(0,n,1):\n",
    "    x[i]=input(\"Digite de a una x\")\n",
    "print(x)   "
   ]
  },
  {
   "cell_type": "code",
   "execution_count": 5,
   "metadata": {},
   "outputs": [
    {
     "name": "stdout",
     "output_type": "stream",
     "text": [
      "[2. 4. 6. 8.]\n"
     ]
    }
   ],
   "source": [
    "y=np.zeros(n)\n",
    "for i in range(0,n,1):\n",
    "    y[i]=input(\"Digite de a una y\")\n",
    "print(y)   "
   ]
  },
  {
   "cell_type": "markdown",
   "metadata": {},
   "source": [
    "![Alt text](../../../../../../../../C:/Users/DANIEL%20PARRA/Documents/Daniel%20P/1Arquitectura%20Computacional/Tareas/Tarea%202/aaa.png)"
   ]
  },
  {
   "cell_type": "markdown",
   "metadata": {},
   "source": [
    "##### Definimos a,b y la recta para hacer la comparacion"
   ]
  },
  {
   "cell_type": "code",
   "execution_count": 6,
   "metadata": {},
   "outputs": [
    {
     "data": {
      "text/plain": [
       "(2.0, 0.0)"
      ]
     },
     "execution_count": 6,
     "metadata": {},
     "output_type": "execute_result"
    }
   ],
   "source": [
    "a=(  n*sum(x*y)-sum(x)*sum(y)  ) / (  n*sum(x**2)-(sum(x)**2)  )\n",
    "b=( sum(y)-a*(sum(x)) ) / ( n )\n",
    "a,b"
   ]
  },
  {
   "cell_type": "code",
   "execution_count": 7,
   "metadata": {},
   "outputs": [],
   "source": [
    "def Y(t):\n",
    "  Y1=a*t+b\n",
    "  return Y1\n"
   ]
  },
  {
   "cell_type": "code",
   "execution_count": 8,
   "metadata": {},
   "outputs": [],
   "source": [
    "##Definimos el t para evaluarlo en la recta \n",
    "t=np.arange(1,max(x)+1,1)\n",
    "\n"
   ]
  },
  {
   "cell_type": "code",
   "execution_count": 9,
   "metadata": {},
   "outputs": [
    {
     "data": {
      "text/plain": [
       "Text(0.5, 1.0, 'Minimos cuadrados')"
      ]
     },
     "execution_count": 9,
     "metadata": {},
     "output_type": "execute_result"
    },
    {
     "data": {
      "image/png": "[encoded data removed]",
      "text/plain": [
       "<Figure size 640x480 with 1 Axes>"
      ]
     },
     "metadata": {},
     "output_type": "display_data"
    }
   ],
   "source": [
    "plt.plot(x,y,\"ro\")\n",
    "plt.plot(t,Y(t),\"b\")\n",
    "plt.xlim(0,max(x)+1)\n",
    "plt.ylim(0,max(y)+1)\n",
    "plt.xlabel(\"x\")\n",
    "plt.ylabel(\"y\")\n",
    "plt.title(\"Minimos cuadrados\")"
   ]
  }
 ],
 "metadata": {
  "kernelspec": {
   "display_name": "Python 3.11.0 64-bit",
   "language": "python",
   "name": "python3"
  },
  "language_info": {
   "codemirror_mode": {
    "name": "ipython",
    "version": 3
   },
   "file_extension": ".py",
   "mimetype": "text/x-python",
   "name": "python",
   "nbconvert_exporter": "python",
   "pygments_lexer": "ipython3",
   "version": "3.11.0"
  },
  "orig_nbformat": 4,
  "vscode": {
   "interpreter": {
    "hash": "bc8532ffefbe4f0f4558a843f963f1055a9cd043ad5cc179ce2234a59f4bd605"
   }
  }
 },
 "nbformat": 4,
 "nbformat_minor": 2
}
